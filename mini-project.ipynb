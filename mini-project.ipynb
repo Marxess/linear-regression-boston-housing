{
 "cells": [
  {
   "cell_type": "markdown",
   "metadata": {},
   "source": [
    "![portada](images/boston.png)"
   ]
  },
  {
   "cell_type": "markdown",
   "metadata": {},
   "source": [
    "# Boston Housing Mini Project"
   ]
  },
  {
   "cell_type": "markdown",
   "metadata": {},
   "source": [
    "## ¿Qué tienes que hacer?\n",
    "- Explorar el dataset\n",
    "- Buscar correlación entre variables\n",
    "- Hacer plots explicativos de tus hipótesis\n",
    "- Entender las variables\n",
    "- Probar modelos de regresión con todas, algunas o una variable ... (según consideres)\n",
    "- Revisar las métricas aprendidas en clase (R2 y R2ajustado)\n",
    "- ¡¡Practicar lo que hemos visto en clase!!\n",
    "- Sobre todo, disfrutar y subirte en el cohete 🚀🔥"
   ]
  },
  {
   "cell_type": "markdown",
   "metadata": {},
   "source": [
    "#Legend\n",
    "- CRIM - per capita crime rate by town\n",
    "- ZN - proportion of residential land zoned for lots over 25,000 sq.ft.\n",
    "- INDUS - proportion of non-retail business acres per town.\n",
    "- CHAS - Charles River dummy variable (1 if tract bounds river; 0 otherwise)\n",
    "- NOX - nitric oxides concentration (parts per 10 million)\n",
    "- RM - average number of rooms per dwelling\n",
    "- AGE - proportion of owner-occupied units built prior to 1940\n",
    "- DIS - weighted distances to five Boston employment centres\n",
    "- RAD - index of accessibility to radial highways\n",
    "- TAX - full-value property-tax rate per 10,000 dollars\n",
    "- PTRATIO - pupil-teacher ratio by town\n",
    "- B - 1000(Bk - 0.63)^2 where Bk is the proportion of blacks by town\n",
    "- LSTAT - % lower status of the population\n",
    "- MEDV - Median value of owner-occupied homes in 1000's dollars"
   ]
  },
  {
   "cell_type": "markdown",
   "metadata": {},
   "source": [
    "### Librerías"
   ]
  },
  {
   "cell_type": "markdown",
   "metadata": {},
   "source": [
    "Recordad que lo primero es importar las librerías"
   ]
  },
  {
   "cell_type": "code",
   "execution_count": 1,
   "metadata": {},
   "outputs": [],
   "source": [
    "#importa aquí todo lo que necesites\n",
    "import pandas as pd\n",
    "from sklearn.datasets import load_boston\n",
    "import numpy as np\n",
    "from matplotlib import pyplot as plt\n",
    "from mpl_toolkits.mplot3d import axes3d\n",
    "from matplotlib import cm\n",
    "%matplotlib inline\n",
    "import seaborn as sns\n",
    "sns.set_context('poster')\n",
    "sns.set(rc={'figure.figsize': (16., 9.)})\n",
    "sns.set_style('whitegrid')\n",
    "from sklearn.linear_model import LinearRegression\n",
    "import statsmodels.formula.api as smf"
   ]
  },
  {
   "cell_type": "markdown",
   "metadata": {},
   "source": [
    "### Datitos"
   ]
  },
  {
   "cell_type": "markdown",
   "metadata": {},
   "source": [
    "Os dejamos los datos cargados 🏡"
   ]
  },
  {
   "cell_type": "code",
   "execution_count": 2,
   "metadata": {},
   "outputs": [],
   "source": [
    "boston_dataset = load_boston()"
   ]
  },
  {
   "cell_type": "code",
   "execution_count": 3,
   "metadata": {},
   "outputs": [
    {
     "data": {
      "text/html": [
       "<div>\n",
       "<style scoped>\n",
       "    .dataframe tbody tr th:only-of-type {\n",
       "        vertical-align: middle;\n",
       "    }\n",
       "\n",
       "    .dataframe tbody tr th {\n",
       "        vertical-align: top;\n",
       "    }\n",
       "\n",
       "    .dataframe thead th {\n",
       "        text-align: right;\n",
       "    }\n",
       "</style>\n",
       "<table border=\"1\" class=\"dataframe\">\n",
       "  <thead>\n",
       "    <tr style=\"text-align: right;\">\n",
       "      <th></th>\n",
       "      <th>CRIM</th>\n",
       "      <th>ZN</th>\n",
       "      <th>INDUS</th>\n",
       "      <th>CHAS</th>\n",
       "      <th>NOX</th>\n",
       "      <th>RM</th>\n",
       "      <th>AGE</th>\n",
       "      <th>DIS</th>\n",
       "      <th>RAD</th>\n",
       "      <th>TAX</th>\n",
       "      <th>PTRATIO</th>\n",
       "      <th>B</th>\n",
       "      <th>LSTAT</th>\n",
       "    </tr>\n",
       "  </thead>\n",
       "  <tbody>\n",
       "    <tr>\n",
       "      <th>0</th>\n",
       "      <td>0.00632</td>\n",
       "      <td>18.0</td>\n",
       "      <td>2.31</td>\n",
       "      <td>0.0</td>\n",
       "      <td>0.538</td>\n",
       "      <td>6.575</td>\n",
       "      <td>65.2</td>\n",
       "      <td>4.0900</td>\n",
       "      <td>1.0</td>\n",
       "      <td>296.0</td>\n",
       "      <td>15.3</td>\n",
       "      <td>396.90</td>\n",
       "      <td>4.98</td>\n",
       "    </tr>\n",
       "    <tr>\n",
       "      <th>1</th>\n",
       "      <td>0.02731</td>\n",
       "      <td>0.0</td>\n",
       "      <td>7.07</td>\n",
       "      <td>0.0</td>\n",
       "      <td>0.469</td>\n",
       "      <td>6.421</td>\n",
       "      <td>78.9</td>\n",
       "      <td>4.9671</td>\n",
       "      <td>2.0</td>\n",
       "      <td>242.0</td>\n",
       "      <td>17.8</td>\n",
       "      <td>396.90</td>\n",
       "      <td>9.14</td>\n",
       "    </tr>\n",
       "    <tr>\n",
       "      <th>2</th>\n",
       "      <td>0.02729</td>\n",
       "      <td>0.0</td>\n",
       "      <td>7.07</td>\n",
       "      <td>0.0</td>\n",
       "      <td>0.469</td>\n",
       "      <td>7.185</td>\n",
       "      <td>61.1</td>\n",
       "      <td>4.9671</td>\n",
       "      <td>2.0</td>\n",
       "      <td>242.0</td>\n",
       "      <td>17.8</td>\n",
       "      <td>392.83</td>\n",
       "      <td>4.03</td>\n",
       "    </tr>\n",
       "    <tr>\n",
       "      <th>3</th>\n",
       "      <td>0.03237</td>\n",
       "      <td>0.0</td>\n",
       "      <td>2.18</td>\n",
       "      <td>0.0</td>\n",
       "      <td>0.458</td>\n",
       "      <td>6.998</td>\n",
       "      <td>45.8</td>\n",
       "      <td>6.0622</td>\n",
       "      <td>3.0</td>\n",
       "      <td>222.0</td>\n",
       "      <td>18.7</td>\n",
       "      <td>394.63</td>\n",
       "      <td>2.94</td>\n",
       "    </tr>\n",
       "    <tr>\n",
       "      <th>4</th>\n",
       "      <td>0.06905</td>\n",
       "      <td>0.0</td>\n",
       "      <td>2.18</td>\n",
       "      <td>0.0</td>\n",
       "      <td>0.458</td>\n",
       "      <td>7.147</td>\n",
       "      <td>54.2</td>\n",
       "      <td>6.0622</td>\n",
       "      <td>3.0</td>\n",
       "      <td>222.0</td>\n",
       "      <td>18.7</td>\n",
       "      <td>396.90</td>\n",
       "      <td>5.33</td>\n",
       "    </tr>\n",
       "  </tbody>\n",
       "</table>\n",
       "</div>"
      ],
      "text/plain": [
       "      CRIM    ZN  INDUS  CHAS    NOX     RM   AGE     DIS  RAD    TAX  \\\n",
       "0  0.00632  18.0   2.31   0.0  0.538  6.575  65.2  4.0900  1.0  296.0   \n",
       "1  0.02731   0.0   7.07   0.0  0.469  6.421  78.9  4.9671  2.0  242.0   \n",
       "2  0.02729   0.0   7.07   0.0  0.469  7.185  61.1  4.9671  2.0  242.0   \n",
       "3  0.03237   0.0   2.18   0.0  0.458  6.998  45.8  6.0622  3.0  222.0   \n",
       "4  0.06905   0.0   2.18   0.0  0.458  7.147  54.2  6.0622  3.0  222.0   \n",
       "\n",
       "   PTRATIO       B  LSTAT  \n",
       "0     15.3  396.90   4.98  \n",
       "1     17.8  396.90   9.14  \n",
       "2     17.8  392.83   4.03  \n",
       "3     18.7  394.63   2.94  \n",
       "4     18.7  396.90   5.33  "
      ]
     },
     "execution_count": 3,
     "metadata": {},
     "output_type": "execute_result"
    }
   ],
   "source": [
    "boston = pd.DataFrame(boston_dataset.data, columns=boston_dataset.feature_names)\n",
    "boston.head()"
   ]
  },
  {
   "cell_type": "code",
   "execution_count": 4,
   "metadata": {},
   "outputs": [],
   "source": [
    "boston['MEDV'] = boston_dataset.target"
   ]
  },
  {
   "cell_type": "code",
   "execution_count": 5,
   "metadata": {
    "scrolled": true
   },
   "outputs": [
    {
     "data": {
      "text/html": [
       "<div>\n",
       "<style scoped>\n",
       "    .dataframe tbody tr th:only-of-type {\n",
       "        vertical-align: middle;\n",
       "    }\n",
       "\n",
       "    .dataframe tbody tr th {\n",
       "        vertical-align: top;\n",
       "    }\n",
       "\n",
       "    .dataframe thead th {\n",
       "        text-align: right;\n",
       "    }\n",
       "</style>\n",
       "<table border=\"1\" class=\"dataframe\">\n",
       "  <thead>\n",
       "    <tr style=\"text-align: right;\">\n",
       "      <th></th>\n",
       "      <th>CRIM</th>\n",
       "      <th>ZN</th>\n",
       "      <th>INDUS</th>\n",
       "      <th>CHAS</th>\n",
       "      <th>NOX</th>\n",
       "      <th>RM</th>\n",
       "      <th>AGE</th>\n",
       "      <th>DIS</th>\n",
       "      <th>RAD</th>\n",
       "      <th>TAX</th>\n",
       "      <th>PTRATIO</th>\n",
       "      <th>B</th>\n",
       "      <th>LSTAT</th>\n",
       "      <th>MEDV</th>\n",
       "    </tr>\n",
       "  </thead>\n",
       "  <tbody>\n",
       "    <tr>\n",
       "      <th>0</th>\n",
       "      <td>0.00632</td>\n",
       "      <td>18.0</td>\n",
       "      <td>2.31</td>\n",
       "      <td>0.0</td>\n",
       "      <td>0.538</td>\n",
       "      <td>6.575</td>\n",
       "      <td>65.2</td>\n",
       "      <td>4.0900</td>\n",
       "      <td>1.0</td>\n",
       "      <td>296.0</td>\n",
       "      <td>15.3</td>\n",
       "      <td>396.90</td>\n",
       "      <td>4.98</td>\n",
       "      <td>24.0</td>\n",
       "    </tr>\n",
       "    <tr>\n",
       "      <th>1</th>\n",
       "      <td>0.02731</td>\n",
       "      <td>0.0</td>\n",
       "      <td>7.07</td>\n",
       "      <td>0.0</td>\n",
       "      <td>0.469</td>\n",
       "      <td>6.421</td>\n",
       "      <td>78.9</td>\n",
       "      <td>4.9671</td>\n",
       "      <td>2.0</td>\n",
       "      <td>242.0</td>\n",
       "      <td>17.8</td>\n",
       "      <td>396.90</td>\n",
       "      <td>9.14</td>\n",
       "      <td>21.6</td>\n",
       "    </tr>\n",
       "    <tr>\n",
       "      <th>2</th>\n",
       "      <td>0.02729</td>\n",
       "      <td>0.0</td>\n",
       "      <td>7.07</td>\n",
       "      <td>0.0</td>\n",
       "      <td>0.469</td>\n",
       "      <td>7.185</td>\n",
       "      <td>61.1</td>\n",
       "      <td>4.9671</td>\n",
       "      <td>2.0</td>\n",
       "      <td>242.0</td>\n",
       "      <td>17.8</td>\n",
       "      <td>392.83</td>\n",
       "      <td>4.03</td>\n",
       "      <td>34.7</td>\n",
       "    </tr>\n",
       "    <tr>\n",
       "      <th>3</th>\n",
       "      <td>0.03237</td>\n",
       "      <td>0.0</td>\n",
       "      <td>2.18</td>\n",
       "      <td>0.0</td>\n",
       "      <td>0.458</td>\n",
       "      <td>6.998</td>\n",
       "      <td>45.8</td>\n",
       "      <td>6.0622</td>\n",
       "      <td>3.0</td>\n",
       "      <td>222.0</td>\n",
       "      <td>18.7</td>\n",
       "      <td>394.63</td>\n",
       "      <td>2.94</td>\n",
       "      <td>33.4</td>\n",
       "    </tr>\n",
       "    <tr>\n",
       "      <th>4</th>\n",
       "      <td>0.06905</td>\n",
       "      <td>0.0</td>\n",
       "      <td>2.18</td>\n",
       "      <td>0.0</td>\n",
       "      <td>0.458</td>\n",
       "      <td>7.147</td>\n",
       "      <td>54.2</td>\n",
       "      <td>6.0622</td>\n",
       "      <td>3.0</td>\n",
       "      <td>222.0</td>\n",
       "      <td>18.7</td>\n",
       "      <td>396.90</td>\n",
       "      <td>5.33</td>\n",
       "      <td>36.2</td>\n",
       "    </tr>\n",
       "  </tbody>\n",
       "</table>\n",
       "</div>"
      ],
      "text/plain": [
       "      CRIM    ZN  INDUS  CHAS    NOX     RM   AGE     DIS  RAD    TAX  \\\n",
       "0  0.00632  18.0   2.31   0.0  0.538  6.575  65.2  4.0900  1.0  296.0   \n",
       "1  0.02731   0.0   7.07   0.0  0.469  6.421  78.9  4.9671  2.0  242.0   \n",
       "2  0.02729   0.0   7.07   0.0  0.469  7.185  61.1  4.9671  2.0  242.0   \n",
       "3  0.03237   0.0   2.18   0.0  0.458  6.998  45.8  6.0622  3.0  222.0   \n",
       "4  0.06905   0.0   2.18   0.0  0.458  7.147  54.2  6.0622  3.0  222.0   \n",
       "\n",
       "   PTRATIO       B  LSTAT  MEDV  \n",
       "0     15.3  396.90   4.98  24.0  \n",
       "1     17.8  396.90   9.14  21.6  \n",
       "2     17.8  392.83   4.03  34.7  \n",
       "3     18.7  394.63   2.94  33.4  \n",
       "4     18.7  396.90   5.33  36.2  "
      ]
     },
     "execution_count": 5,
     "metadata": {},
     "output_type": "execute_result"
    }
   ],
   "source": [
    "boston.head()"
   ]
  },
  {
   "cell_type": "code",
   "execution_count": 63,
   "metadata": {},
   "outputs": [],
   "source": [
    "#drop MEDV =>50\n",
    "boston2 = boston.drop(boston[boston.MEDV >= 50.0].index)"
   ]
  },
  {
   "cell_type": "code",
   "execution_count": 64,
   "metadata": {},
   "outputs": [
    {
     "data": {
      "text/html": [
       "<div>\n",
       "<style scoped>\n",
       "    .dataframe tbody tr th:only-of-type {\n",
       "        vertical-align: middle;\n",
       "    }\n",
       "\n",
       "    .dataframe tbody tr th {\n",
       "        vertical-align: top;\n",
       "    }\n",
       "\n",
       "    .dataframe thead th {\n",
       "        text-align: right;\n",
       "    }\n",
       "</style>\n",
       "<table border=\"1\" class=\"dataframe\">\n",
       "  <thead>\n",
       "    <tr style=\"text-align: right;\">\n",
       "      <th></th>\n",
       "      <th>CRIM</th>\n",
       "      <th>ZN</th>\n",
       "      <th>INDUS</th>\n",
       "      <th>CHAS</th>\n",
       "      <th>NOX</th>\n",
       "      <th>RM</th>\n",
       "      <th>AGE</th>\n",
       "      <th>DIS</th>\n",
       "      <th>RAD</th>\n",
       "      <th>TAX</th>\n",
       "      <th>PTRATIO</th>\n",
       "      <th>B</th>\n",
       "      <th>LSTAT</th>\n",
       "      <th>MEDV</th>\n",
       "      <th>best_prediction</th>\n",
       "      <th>best_prediction_error</th>\n",
       "    </tr>\n",
       "  </thead>\n",
       "  <tbody>\n",
       "    <tr>\n",
       "      <th>count</th>\n",
       "      <td>490.000000</td>\n",
       "      <td>490.000000</td>\n",
       "      <td>490.000000</td>\n",
       "      <td>490.000000</td>\n",
       "      <td>490.000000</td>\n",
       "      <td>490.000000</td>\n",
       "      <td>490.00000</td>\n",
       "      <td>490.000000</td>\n",
       "      <td>490.000000</td>\n",
       "      <td>490.000000</td>\n",
       "      <td>490.000000</td>\n",
       "      <td>490.000000</td>\n",
       "      <td>490.00000</td>\n",
       "      <td>490.000000</td>\n",
       "      <td>490.000000</td>\n",
       "      <td>490.000000</td>\n",
       "    </tr>\n",
       "    <tr>\n",
       "      <th>mean</th>\n",
       "      <td>3.643241</td>\n",
       "      <td>11.112245</td>\n",
       "      <td>11.113143</td>\n",
       "      <td>0.059184</td>\n",
       "      <td>0.554307</td>\n",
       "      <td>6.245471</td>\n",
       "      <td>68.27898</td>\n",
       "      <td>3.834519</td>\n",
       "      <td>9.514286</td>\n",
       "      <td>408.002041</td>\n",
       "      <td>18.520000</td>\n",
       "      <td>355.855449</td>\n",
       "      <td>12.92402</td>\n",
       "      <td>21.635918</td>\n",
       "      <td>10.543850</td>\n",
       "      <td>-0.568395</td>\n",
       "    </tr>\n",
       "    <tr>\n",
       "      <th>std</th>\n",
       "      <td>8.722154</td>\n",
       "      <td>22.844626</td>\n",
       "      <td>6.821302</td>\n",
       "      <td>0.236209</td>\n",
       "      <td>0.116688</td>\n",
       "      <td>0.653147</td>\n",
       "      <td>28.16479</td>\n",
       "      <td>2.109948</td>\n",
       "      <td>8.691297</td>\n",
       "      <td>168.065190</td>\n",
       "      <td>2.110478</td>\n",
       "      <td>92.634273</td>\n",
       "      <td>7.08318</td>\n",
       "      <td>7.865301</td>\n",
       "      <td>7.189156</td>\n",
       "      <td>20.991917</td>\n",
       "    </tr>\n",
       "    <tr>\n",
       "      <th>min</th>\n",
       "      <td>0.006320</td>\n",
       "      <td>0.000000</td>\n",
       "      <td>0.740000</td>\n",
       "      <td>0.000000</td>\n",
       "      <td>0.385000</td>\n",
       "      <td>3.561000</td>\n",
       "      <td>2.90000</td>\n",
       "      <td>1.137000</td>\n",
       "      <td>1.000000</td>\n",
       "      <td>187.000000</td>\n",
       "      <td>12.600000</td>\n",
       "      <td>0.320000</td>\n",
       "      <td>1.98000</td>\n",
       "      <td>5.000000</td>\n",
       "      <td>-4.661952</td>\n",
       "      <td>-80.348637</td>\n",
       "    </tr>\n",
       "    <tr>\n",
       "      <th>25%</th>\n",
       "      <td>0.082045</td>\n",
       "      <td>0.000000</td>\n",
       "      <td>5.190000</td>\n",
       "      <td>0.000000</td>\n",
       "      <td>0.449000</td>\n",
       "      <td>5.881000</td>\n",
       "      <td>44.55000</td>\n",
       "      <td>2.111050</td>\n",
       "      <td>4.000000</td>\n",
       "      <td>280.250000</td>\n",
       "      <td>17.400000</td>\n",
       "      <td>375.912500</td>\n",
       "      <td>7.34750</td>\n",
       "      <td>16.700000</td>\n",
       "      <td>6.032251</td>\n",
       "      <td>-1.701176</td>\n",
       "    </tr>\n",
       "    <tr>\n",
       "      <th>50%</th>\n",
       "      <td>0.247510</td>\n",
       "      <td>0.000000</td>\n",
       "      <td>9.690000</td>\n",
       "      <td>0.000000</td>\n",
       "      <td>0.538000</td>\n",
       "      <td>6.185000</td>\n",
       "      <td>76.80000</td>\n",
       "      <td>3.275900</td>\n",
       "      <td>5.000000</td>\n",
       "      <td>330.000000</td>\n",
       "      <td>19.100000</td>\n",
       "      <td>391.770000</td>\n",
       "      <td>11.67500</td>\n",
       "      <td>20.900000</td>\n",
       "      <td>9.871195</td>\n",
       "      <td>6.123654</td>\n",
       "    </tr>\n",
       "    <tr>\n",
       "      <th>75%</th>\n",
       "      <td>3.647423</td>\n",
       "      <td>12.500000</td>\n",
       "      <td>18.100000</td>\n",
       "      <td>0.000000</td>\n",
       "      <td>0.624000</td>\n",
       "      <td>6.578000</td>\n",
       "      <td>93.87500</td>\n",
       "      <td>5.214600</td>\n",
       "      <td>24.000000</td>\n",
       "      <td>666.000000</td>\n",
       "      <td>20.200000</td>\n",
       "      <td>396.322500</td>\n",
       "      <td>17.11750</td>\n",
       "      <td>24.675000</td>\n",
       "      <td>13.321675</td>\n",
       "      <td>10.602423</td>\n",
       "    </tr>\n",
       "    <tr>\n",
       "      <th>max</th>\n",
       "      <td>88.976200</td>\n",
       "      <td>100.000000</td>\n",
       "      <td>27.740000</td>\n",
       "      <td>1.000000</td>\n",
       "      <td>0.871000</td>\n",
       "      <td>8.780000</td>\n",
       "      <td>100.00000</td>\n",
       "      <td>12.126500</td>\n",
       "      <td>24.000000</td>\n",
       "      <td>711.000000</td>\n",
       "      <td>22.000000</td>\n",
       "      <td>396.900000</td>\n",
       "      <td>37.97000</td>\n",
       "      <td>48.800000</td>\n",
       "      <td>35.372755</td>\n",
       "      <td>34.915738</td>\n",
       "    </tr>\n",
       "  </tbody>\n",
       "</table>\n",
       "</div>"
      ],
      "text/plain": [
       "             CRIM          ZN       INDUS        CHAS         NOX          RM  \\\n",
       "count  490.000000  490.000000  490.000000  490.000000  490.000000  490.000000   \n",
       "mean     3.643241   11.112245   11.113143    0.059184    0.554307    6.245471   \n",
       "std      8.722154   22.844626    6.821302    0.236209    0.116688    0.653147   \n",
       "min      0.006320    0.000000    0.740000    0.000000    0.385000    3.561000   \n",
       "25%      0.082045    0.000000    5.190000    0.000000    0.449000    5.881000   \n",
       "50%      0.247510    0.000000    9.690000    0.000000    0.538000    6.185000   \n",
       "75%      3.647423   12.500000   18.100000    0.000000    0.624000    6.578000   \n",
       "max     88.976200  100.000000   27.740000    1.000000    0.871000    8.780000   \n",
       "\n",
       "             AGE         DIS         RAD         TAX     PTRATIO           B  \\\n",
       "count  490.00000  490.000000  490.000000  490.000000  490.000000  490.000000   \n",
       "mean    68.27898    3.834519    9.514286  408.002041   18.520000  355.855449   \n",
       "std     28.16479    2.109948    8.691297  168.065190    2.110478   92.634273   \n",
       "min      2.90000    1.137000    1.000000  187.000000   12.600000    0.320000   \n",
       "25%     44.55000    2.111050    4.000000  280.250000   17.400000  375.912500   \n",
       "50%     76.80000    3.275900    5.000000  330.000000   19.100000  391.770000   \n",
       "75%     93.87500    5.214600   24.000000  666.000000   20.200000  396.322500   \n",
       "max    100.00000   12.126500   24.000000  711.000000   22.000000  396.900000   \n",
       "\n",
       "           LSTAT        MEDV  best_prediction  best_prediction_error  \n",
       "count  490.00000  490.000000       490.000000             490.000000  \n",
       "mean    12.92402   21.635918        10.543850              -0.568395  \n",
       "std      7.08318    7.865301         7.189156              20.991917  \n",
       "min      1.98000    5.000000        -4.661952             -80.348637  \n",
       "25%      7.34750   16.700000         6.032251              -1.701176  \n",
       "50%     11.67500   20.900000         9.871195               6.123654  \n",
       "75%     17.11750   24.675000        13.321675              10.602423  \n",
       "max     37.97000   48.800000        35.372755              34.915738  "
      ]
     },
     "execution_count": 64,
     "metadata": {},
     "output_type": "execute_result"
    }
   ],
   "source": [
    "boston2.describe()"
   ]
  },
  {
   "cell_type": "code",
   "execution_count": 65,
   "metadata": {},
   "outputs": [
    {
     "data": {
      "text/html": [
       "<div>\n",
       "<style scoped>\n",
       "    .dataframe tbody tr th:only-of-type {\n",
       "        vertical-align: middle;\n",
       "    }\n",
       "\n",
       "    .dataframe tbody tr th {\n",
       "        vertical-align: top;\n",
       "    }\n",
       "\n",
       "    .dataframe thead th {\n",
       "        text-align: right;\n",
       "    }\n",
       "</style>\n",
       "<table border=\"1\" class=\"dataframe\">\n",
       "  <thead>\n",
       "    <tr style=\"text-align: right;\">\n",
       "      <th></th>\n",
       "      <th>CRIM</th>\n",
       "      <th>ZN</th>\n",
       "      <th>INDUS</th>\n",
       "      <th>CHAS</th>\n",
       "      <th>NOX</th>\n",
       "      <th>RM</th>\n",
       "      <th>AGE</th>\n",
       "      <th>DIS</th>\n",
       "      <th>RAD</th>\n",
       "      <th>TAX</th>\n",
       "      <th>PTRATIO</th>\n",
       "      <th>B</th>\n",
       "      <th>LSTAT</th>\n",
       "      <th>MEDV</th>\n",
       "      <th>best_prediction</th>\n",
       "      <th>best_prediction_error</th>\n",
       "    </tr>\n",
       "  </thead>\n",
       "  <tbody>\n",
       "    <tr>\n",
       "      <th>CRIM</th>\n",
       "      <td>1.000000</td>\n",
       "      <td>-0.199075</td>\n",
       "      <td>0.408053</td>\n",
       "      <td>-0.064210</td>\n",
       "      <td>0.420476</td>\n",
       "      <td>-0.219307</td>\n",
       "      <td>0.353751</td>\n",
       "      <td>-0.382231</td>\n",
       "      <td>0.627434</td>\n",
       "      <td>0.583711</td>\n",
       "      <td>0.287079</td>\n",
       "      <td>-0.384460</td>\n",
       "      <td>0.461755</td>\n",
       "      <td>-0.450115</td>\n",
       "      <td>-0.450115</td>\n",
       "      <td>0.062492</td>\n",
       "    </tr>\n",
       "    <tr>\n",
       "      <th>ZN</th>\n",
       "      <td>-0.199075</td>\n",
       "      <td>1.000000</td>\n",
       "      <td>-0.527121</td>\n",
       "      <td>-0.053911</td>\n",
       "      <td>-0.512137</td>\n",
       "      <td>0.310506</td>\n",
       "      <td>-0.563184</td>\n",
       "      <td>0.673227</td>\n",
       "      <td>-0.307726</td>\n",
       "      <td>-0.302897</td>\n",
       "      <td>-0.381815</td>\n",
       "      <td>0.176117</td>\n",
       "      <td>-0.422090</td>\n",
       "      <td>0.404608</td>\n",
       "      <td>0.404608</td>\n",
       "      <td>-0.949691</td>\n",
       "    </tr>\n",
       "    <tr>\n",
       "      <th>INDUS</th>\n",
       "      <td>0.408053</td>\n",
       "      <td>-0.527121</td>\n",
       "      <td>1.000000</td>\n",
       "      <td>0.035815</td>\n",
       "      <td>0.765155</td>\n",
       "      <td>-0.412413</td>\n",
       "      <td>0.637970</td>\n",
       "      <td>-0.710284</td>\n",
       "      <td>0.596124</td>\n",
       "      <td>0.717678</td>\n",
       "      <td>0.387656</td>\n",
       "      <td>-0.363394</td>\n",
       "      <td>0.636527</td>\n",
       "      <td>-0.600005</td>\n",
       "      <td>-0.600005</td>\n",
       "      <td>0.368158</td>\n",
       "    </tr>\n",
       "    <tr>\n",
       "      <th>CHAS</th>\n",
       "      <td>-0.064210</td>\n",
       "      <td>-0.053911</td>\n",
       "      <td>0.035815</td>\n",
       "      <td>1.000000</td>\n",
       "      <td>0.085619</td>\n",
       "      <td>0.044979</td>\n",
       "      <td>0.071194</td>\n",
       "      <td>-0.077705</td>\n",
       "      <td>-0.032786</td>\n",
       "      <td>-0.067743</td>\n",
       "      <td>-0.116830</td>\n",
       "      <td>0.041707</td>\n",
       "      <td>-0.006486</td>\n",
       "      <td>0.074803</td>\n",
       "      <td>0.074803</td>\n",
       "      <td>0.084287</td>\n",
       "    </tr>\n",
       "    <tr>\n",
       "      <th>NOX</th>\n",
       "      <td>0.420476</td>\n",
       "      <td>-0.512137</td>\n",
       "      <td>0.765155</td>\n",
       "      <td>0.085619</td>\n",
       "      <td>1.000000</td>\n",
       "      <td>-0.322609</td>\n",
       "      <td>0.727671</td>\n",
       "      <td>-0.768122</td>\n",
       "      <td>0.612160</td>\n",
       "      <td>0.667380</td>\n",
       "      <td>0.188381</td>\n",
       "      <td>-0.383087</td>\n",
       "      <td>0.612444</td>\n",
       "      <td>-0.524451</td>\n",
       "      <td>-0.524451</td>\n",
       "      <td>0.377727</td>\n",
       "    </tr>\n",
       "    <tr>\n",
       "      <th>RM</th>\n",
       "      <td>-0.219307</td>\n",
       "      <td>0.310506</td>\n",
       "      <td>-0.412413</td>\n",
       "      <td>0.044979</td>\n",
       "      <td>-0.322609</td>\n",
       "      <td>1.000000</td>\n",
       "      <td>-0.268464</td>\n",
       "      <td>0.245789</td>\n",
       "      <td>-0.195768</td>\n",
       "      <td>-0.281955</td>\n",
       "      <td>-0.293299</td>\n",
       "      <td>0.119204</td>\n",
       "      <td>-0.610369</td>\n",
       "      <td>0.686634</td>\n",
       "      <td>0.686634</td>\n",
       "      <td>-0.102758</td>\n",
       "    </tr>\n",
       "    <tr>\n",
       "      <th>AGE</th>\n",
       "      <td>0.353751</td>\n",
       "      <td>-0.563184</td>\n",
       "      <td>0.637970</td>\n",
       "      <td>0.071194</td>\n",
       "      <td>0.727671</td>\n",
       "      <td>-0.268464</td>\n",
       "      <td>1.000000</td>\n",
       "      <td>-0.743043</td>\n",
       "      <td>0.451939</td>\n",
       "      <td>0.499682</td>\n",
       "      <td>0.268459</td>\n",
       "      <td>-0.279002</td>\n",
       "      <td>0.637879</td>\n",
       "      <td>-0.492915</td>\n",
       "      <td>-0.492915</td>\n",
       "      <td>0.444079</td>\n",
       "    </tr>\n",
       "    <tr>\n",
       "      <th>DIS</th>\n",
       "      <td>-0.382231</td>\n",
       "      <td>0.673227</td>\n",
       "      <td>-0.710284</td>\n",
       "      <td>-0.077705</td>\n",
       "      <td>-0.768122</td>\n",
       "      <td>0.245789</td>\n",
       "      <td>-0.743043</td>\n",
       "      <td>1.000000</td>\n",
       "      <td>-0.491875</td>\n",
       "      <td>-0.532025</td>\n",
       "      <td>-0.246773</td>\n",
       "      <td>0.299426</td>\n",
       "      <td>-0.536493</td>\n",
       "      <td>0.368813</td>\n",
       "      <td>0.368813</td>\n",
       "      <td>-0.606337</td>\n",
       "    </tr>\n",
       "    <tr>\n",
       "      <th>RAD</th>\n",
       "      <td>0.627434</td>\n",
       "      <td>-0.307726</td>\n",
       "      <td>0.596124</td>\n",
       "      <td>-0.032786</td>\n",
       "      <td>0.612160</td>\n",
       "      <td>-0.195768</td>\n",
       "      <td>0.451939</td>\n",
       "      <td>-0.491875</td>\n",
       "      <td>1.000000</td>\n",
       "      <td>0.909000</td>\n",
       "      <td>0.456035</td>\n",
       "      <td>-0.451534</td>\n",
       "      <td>0.510192</td>\n",
       "      <td>-0.476296</td>\n",
       "      <td>-0.476296</td>\n",
       "      <td>0.171767</td>\n",
       "    </tr>\n",
       "    <tr>\n",
       "      <th>TAX</th>\n",
       "      <td>0.583711</td>\n",
       "      <td>-0.302897</td>\n",
       "      <td>0.717678</td>\n",
       "      <td>-0.067743</td>\n",
       "      <td>0.667380</td>\n",
       "      <td>-0.281955</td>\n",
       "      <td>0.499682</td>\n",
       "      <td>-0.532025</td>\n",
       "      <td>0.909000</td>\n",
       "      <td>1.000000</td>\n",
       "      <td>0.452252</td>\n",
       "      <td>-0.448211</td>\n",
       "      <td>0.566467</td>\n",
       "      <td>-0.572442</td>\n",
       "      <td>-0.572442</td>\n",
       "      <td>0.133584</td>\n",
       "    </tr>\n",
       "    <tr>\n",
       "      <th>PTRATIO</th>\n",
       "      <td>0.287079</td>\n",
       "      <td>-0.381815</td>\n",
       "      <td>0.387656</td>\n",
       "      <td>-0.116830</td>\n",
       "      <td>0.188381</td>\n",
       "      <td>-0.293299</td>\n",
       "      <td>0.268459</td>\n",
       "      <td>-0.246773</td>\n",
       "      <td>0.456035</td>\n",
       "      <td>0.452252</td>\n",
       "      <td>1.000000</td>\n",
       "      <td>-0.173636</td>\n",
       "      <td>0.358023</td>\n",
       "      <td>-0.518641</td>\n",
       "      <td>-0.518641</td>\n",
       "      <td>0.237893</td>\n",
       "    </tr>\n",
       "    <tr>\n",
       "      <th>B</th>\n",
       "      <td>-0.384460</td>\n",
       "      <td>0.176117</td>\n",
       "      <td>-0.363394</td>\n",
       "      <td>0.041707</td>\n",
       "      <td>-0.383087</td>\n",
       "      <td>0.119204</td>\n",
       "      <td>-0.279002</td>\n",
       "      <td>0.299426</td>\n",
       "      <td>-0.451534</td>\n",
       "      <td>-0.448211</td>\n",
       "      <td>-0.173636</td>\n",
       "      <td>1.000000</td>\n",
       "      <td>-0.364099</td>\n",
       "      <td>0.364928</td>\n",
       "      <td>0.364928</td>\n",
       "      <td>-0.066683</td>\n",
       "    </tr>\n",
       "    <tr>\n",
       "      <th>LSTAT</th>\n",
       "      <td>0.461755</td>\n",
       "      <td>-0.422090</td>\n",
       "      <td>0.636527</td>\n",
       "      <td>-0.006486</td>\n",
       "      <td>0.612444</td>\n",
       "      <td>-0.610369</td>\n",
       "      <td>0.637879</td>\n",
       "      <td>-0.536493</td>\n",
       "      <td>0.510192</td>\n",
       "      <td>0.566467</td>\n",
       "      <td>0.358023</td>\n",
       "      <td>-0.364099</td>\n",
       "      <td>1.000000</td>\n",
       "      <td>-0.759837</td>\n",
       "      <td>-0.759837</td>\n",
       "      <td>0.199119</td>\n",
       "    </tr>\n",
       "    <tr>\n",
       "      <th>MEDV</th>\n",
       "      <td>-0.450115</td>\n",
       "      <td>0.404608</td>\n",
       "      <td>-0.600005</td>\n",
       "      <td>0.074803</td>\n",
       "      <td>-0.524451</td>\n",
       "      <td>0.686634</td>\n",
       "      <td>-0.492915</td>\n",
       "      <td>0.368813</td>\n",
       "      <td>-0.476296</td>\n",
       "      <td>-0.572442</td>\n",
       "      <td>-0.518641</td>\n",
       "      <td>0.364928</td>\n",
       "      <td>-0.759837</td>\n",
       "      <td>1.000000</td>\n",
       "      <td>1.000000</td>\n",
       "      <td>-0.097845</td>\n",
       "    </tr>\n",
       "    <tr>\n",
       "      <th>best_prediction</th>\n",
       "      <td>-0.450115</td>\n",
       "      <td>0.404608</td>\n",
       "      <td>-0.600005</td>\n",
       "      <td>0.074803</td>\n",
       "      <td>-0.524451</td>\n",
       "      <td>0.686634</td>\n",
       "      <td>-0.492915</td>\n",
       "      <td>0.368813</td>\n",
       "      <td>-0.476296</td>\n",
       "      <td>-0.572442</td>\n",
       "      <td>-0.518641</td>\n",
       "      <td>0.364928</td>\n",
       "      <td>-0.759837</td>\n",
       "      <td>1.000000</td>\n",
       "      <td>1.000000</td>\n",
       "      <td>-0.097845</td>\n",
       "    </tr>\n",
       "    <tr>\n",
       "      <th>best_prediction_error</th>\n",
       "      <td>0.062492</td>\n",
       "      <td>-0.949691</td>\n",
       "      <td>0.368158</td>\n",
       "      <td>0.084287</td>\n",
       "      <td>0.377727</td>\n",
       "      <td>-0.102758</td>\n",
       "      <td>0.444079</td>\n",
       "      <td>-0.606337</td>\n",
       "      <td>0.171767</td>\n",
       "      <td>0.133584</td>\n",
       "      <td>0.237893</td>\n",
       "      <td>-0.066683</td>\n",
       "      <td>0.199119</td>\n",
       "      <td>-0.097845</td>\n",
       "      <td>-0.097845</td>\n",
       "      <td>1.000000</td>\n",
       "    </tr>\n",
       "  </tbody>\n",
       "</table>\n",
       "</div>"
      ],
      "text/plain": [
       "                           CRIM        ZN     INDUS      CHAS       NOX  \\\n",
       "CRIM                   1.000000 -0.199075  0.408053 -0.064210  0.420476   \n",
       "ZN                    -0.199075  1.000000 -0.527121 -0.053911 -0.512137   \n",
       "INDUS                  0.408053 -0.527121  1.000000  0.035815  0.765155   \n",
       "CHAS                  -0.064210 -0.053911  0.035815  1.000000  0.085619   \n",
       "NOX                    0.420476 -0.512137  0.765155  0.085619  1.000000   \n",
       "RM                    -0.219307  0.310506 -0.412413  0.044979 -0.322609   \n",
       "AGE                    0.353751 -0.563184  0.637970  0.071194  0.727671   \n",
       "DIS                   -0.382231  0.673227 -0.710284 -0.077705 -0.768122   \n",
       "RAD                    0.627434 -0.307726  0.596124 -0.032786  0.612160   \n",
       "TAX                    0.583711 -0.302897  0.717678 -0.067743  0.667380   \n",
       "PTRATIO                0.287079 -0.381815  0.387656 -0.116830  0.188381   \n",
       "B                     -0.384460  0.176117 -0.363394  0.041707 -0.383087   \n",
       "LSTAT                  0.461755 -0.422090  0.636527 -0.006486  0.612444   \n",
       "MEDV                  -0.450115  0.404608 -0.600005  0.074803 -0.524451   \n",
       "best_prediction       -0.450115  0.404608 -0.600005  0.074803 -0.524451   \n",
       "best_prediction_error  0.062492 -0.949691  0.368158  0.084287  0.377727   \n",
       "\n",
       "                             RM       AGE       DIS       RAD       TAX  \\\n",
       "CRIM                  -0.219307  0.353751 -0.382231  0.627434  0.583711   \n",
       "ZN                     0.310506 -0.563184  0.673227 -0.307726 -0.302897   \n",
       "INDUS                 -0.412413  0.637970 -0.710284  0.596124  0.717678   \n",
       "CHAS                   0.044979  0.071194 -0.077705 -0.032786 -0.067743   \n",
       "NOX                   -0.322609  0.727671 -0.768122  0.612160  0.667380   \n",
       "RM                     1.000000 -0.268464  0.245789 -0.195768 -0.281955   \n",
       "AGE                   -0.268464  1.000000 -0.743043  0.451939  0.499682   \n",
       "DIS                    0.245789 -0.743043  1.000000 -0.491875 -0.532025   \n",
       "RAD                   -0.195768  0.451939 -0.491875  1.000000  0.909000   \n",
       "TAX                   -0.281955  0.499682 -0.532025  0.909000  1.000000   \n",
       "PTRATIO               -0.293299  0.268459 -0.246773  0.456035  0.452252   \n",
       "B                      0.119204 -0.279002  0.299426 -0.451534 -0.448211   \n",
       "LSTAT                 -0.610369  0.637879 -0.536493  0.510192  0.566467   \n",
       "MEDV                   0.686634 -0.492915  0.368813 -0.476296 -0.572442   \n",
       "best_prediction        0.686634 -0.492915  0.368813 -0.476296 -0.572442   \n",
       "best_prediction_error -0.102758  0.444079 -0.606337  0.171767  0.133584   \n",
       "\n",
       "                        PTRATIO         B     LSTAT      MEDV  \\\n",
       "CRIM                   0.287079 -0.384460  0.461755 -0.450115   \n",
       "ZN                    -0.381815  0.176117 -0.422090  0.404608   \n",
       "INDUS                  0.387656 -0.363394  0.636527 -0.600005   \n",
       "CHAS                  -0.116830  0.041707 -0.006486  0.074803   \n",
       "NOX                    0.188381 -0.383087  0.612444 -0.524451   \n",
       "RM                    -0.293299  0.119204 -0.610369  0.686634   \n",
       "AGE                    0.268459 -0.279002  0.637879 -0.492915   \n",
       "DIS                   -0.246773  0.299426 -0.536493  0.368813   \n",
       "RAD                    0.456035 -0.451534  0.510192 -0.476296   \n",
       "TAX                    0.452252 -0.448211  0.566467 -0.572442   \n",
       "PTRATIO                1.000000 -0.173636  0.358023 -0.518641   \n",
       "B                     -0.173636  1.000000 -0.364099  0.364928   \n",
       "LSTAT                  0.358023 -0.364099  1.000000 -0.759837   \n",
       "MEDV                  -0.518641  0.364928 -0.759837  1.000000   \n",
       "best_prediction       -0.518641  0.364928 -0.759837  1.000000   \n",
       "best_prediction_error  0.237893 -0.066683  0.199119 -0.097845   \n",
       "\n",
       "                       best_prediction  best_prediction_error  \n",
       "CRIM                         -0.450115               0.062492  \n",
       "ZN                            0.404608              -0.949691  \n",
       "INDUS                        -0.600005               0.368158  \n",
       "CHAS                          0.074803               0.084287  \n",
       "NOX                          -0.524451               0.377727  \n",
       "RM                            0.686634              -0.102758  \n",
       "AGE                          -0.492915               0.444079  \n",
       "DIS                           0.368813              -0.606337  \n",
       "RAD                          -0.476296               0.171767  \n",
       "TAX                          -0.572442               0.133584  \n",
       "PTRATIO                      -0.518641               0.237893  \n",
       "B                             0.364928              -0.066683  \n",
       "LSTAT                        -0.759837               0.199119  \n",
       "MEDV                          1.000000              -0.097845  \n",
       "best_prediction               1.000000              -0.097845  \n",
       "best_prediction_error        -0.097845               1.000000  "
      ]
     },
     "execution_count": 65,
     "metadata": {},
     "output_type": "execute_result"
    }
   ],
   "source": [
    "boston2.corr()"
   ]
  },
  {
   "cell_type": "code",
   "execution_count": 66,
   "metadata": {},
   "outputs": [
    {
     "data": {
      "text/plain": [
       "LinearRegression()"
      ]
     },
     "execution_count": 66,
     "metadata": {},
     "output_type": "execute_result"
    }
   ],
   "source": [
    "#Looking for correlations between variables\n",
    "#per crime capita rate? does it affect/impact median value of owner-occupied homes in 1000's dollars\n",
    "lr = LinearRegression()\n",
    "lr.fit(\n",
    "    X = boston2[['MEDV']],\n",
    "    y = boston2.CRIM\n",
    ")"
   ]
  },
  {
   "cell_type": "code",
   "execution_count": 67,
   "metadata": {},
   "outputs": [
    {
     "data": {
      "text/plain": [
       "14.442834624987007"
      ]
     },
     "execution_count": 67,
     "metadata": {},
     "output_type": "execute_result"
    }
   ],
   "source": [
    "lr.intercept_"
   ]
  },
  {
   "cell_type": "code",
   "execution_count": 68,
   "metadata": {},
   "outputs": [
    {
     "data": {
      "text/plain": [
       "array([-0.49915113])"
      ]
     },
     "execution_count": 68,
     "metadata": {},
     "output_type": "execute_result"
    }
   ],
   "source": [
    "lr.coef_"
   ]
  },
  {
   "cell_type": "code",
   "execution_count": 75,
   "metadata": {},
   "outputs": [],
   "source": [
    "boston2[\"best_prediction\"] = boston2.MEDV * lr.coef_ + lr.intercept_"
   ]
  },
  {
   "cell_type": "code",
   "execution_count": 76,
   "metadata": {},
   "outputs": [],
   "source": [
    "boston2[\"best_prediction_error\"] = (boston2.best_prediction - boston2.CRIM)"
   ]
  },
  {
   "cell_type": "code",
   "execution_count": 77,
   "metadata": {},
   "outputs": [
    {
     "data": {
      "text/plain": [
       "4.640279090678206e-16"
      ]
     },
     "execution_count": 77,
     "metadata": {},
     "output_type": "execute_result"
    }
   ],
   "source": [
    "boston2.best_prediction_error.mean()"
   ]
  },
  {
   "cell_type": "code",
   "execution_count": 78,
   "metadata": {},
   "outputs": [
    {
     "data": {
      "text/plain": [
       "[<matplotlib.lines.Line2D at 0x11e6b2160>]"
      ]
     },
     "execution_count": 78,
     "metadata": {},
     "output_type": "execute_result"
    },
    {
     "data": {
      "image/png": "[encoded data removed]",
      "text/plain": [
       "<Figure size 1152x648 with 1 Axes>"
      ]
     },
     "metadata": {},
     "output_type": "display_data"
    }
   ],
   "source": [
    "fig, ax = plt.subplots()\n",
    "sns.scatterplot(x=boston2['MEDV'], y=boston2['CRIM'])\n",
    "plt.plot(boston2['MEDV'], boston2.best_prediction, color='r', label='best')"
   ]
  },
  {
   "cell_type": "code",
   "execution_count": 79,
   "metadata": {},
   "outputs": [
    {
     "data": {
      "text/plain": [
       "LinearRegression()"
      ]
     },
     "execution_count": 79,
     "metadata": {},
     "output_type": "execute_result"
    }
   ],
   "source": [
    "#RAD - index access to highways  \n",
    "#and MEDV - Median value of owner-occupied homes in 1000's dollars\n",
    "lr = LinearRegression()\n",
    "lr.fit(\n",
    "    X = boston2[['MEDV']],\n",
    "    y = boston2.RAD\n",
    ")"
   ]
  },
  {
   "cell_type": "code",
   "execution_count": 80,
   "metadata": {},
   "outputs": [
    {
     "data": {
      "text/plain": [
       "20.901596067562114"
      ]
     },
     "execution_count": 80,
     "metadata": {},
     "output_type": "execute_result"
    }
   ],
   "source": [
    "lr.intercept_"
   ]
  },
  {
   "cell_type": "code",
   "execution_count": 81,
   "metadata": {},
   "outputs": [
    {
     "data": {
      "text/plain": [
       "array([-0.52631509])"
      ]
     },
     "execution_count": 81,
     "metadata": {},
     "output_type": "execute_result"
    }
   ],
   "source": [
    "lr.coef_"
   ]
  },
  {
   "cell_type": "code",
   "execution_count": 83,
   "metadata": {},
   "outputs": [],
   "source": [
    "boston2[\"best_prediction\"] = boston2.MEDV * lr.coef_ + lr.intercept_"
   ]
  },
  {
   "cell_type": "code",
   "execution_count": 84,
   "metadata": {},
   "outputs": [],
   "source": [
    "boston2[\"best_prediction_error\"] = (boston2.best_prediction - boston2.RAD)"
   ]
  },
  {
   "cell_type": "code",
   "execution_count": 85,
   "metadata": {},
   "outputs": [
    {
     "data": {
      "text/plain": [
       "-4.640279090678206e-16"
      ]
     },
     "execution_count": 85,
     "metadata": {},
     "output_type": "execute_result"
    }
   ],
   "source": [
    "boston2.best_prediction_error.mean()"
   ]
  },
  {
   "cell_type": "code",
   "execution_count": 86,
   "metadata": {},
   "outputs": [
    {
     "data": {
      "text/plain": [
       "[<matplotlib.lines.Line2D at 0x11e705160>]"
      ]
     },
     "execution_count": 86,
     "metadata": {},
     "output_type": "execute_result"
    },
    {
     "data": {
      "image/png": "[encoded data removed]",
      "text/plain": [
       "<Figure size 1152x648 with 1 Axes>"
      ]
     },
     "metadata": {},
     "output_type": "display_data"
    }
   ],
   "source": [
    "fig, ax = plt.subplots()\n",
    "sns.scatterplot(x=boston2['MEDV'], y=boston2['RAD'])\n",
    "plt.plot(boston2['MEDV'], boston2.best_prediction, color='g', label='best')"
   ]
  },
  {
   "cell_type": "code",
   "execution_count": 87,
   "metadata": {},
   "outputs": [
    {
     "data": {
      "text/plain": [
       "LinearRegression()"
      ]
     },
     "execution_count": 87,
     "metadata": {},
     "output_type": "execute_result"
    }
   ],
   "source": [
    "#PTRATIO - pupil-teacher ratio by town\n",
    "lr = LinearRegression()\n",
    "lr.fit(\n",
    "    X = boston2[['MEDV']],\n",
    "    y = boston2.PTRATIO\n",
    ")"
   ]
  },
  {
   "cell_type": "code",
   "execution_count": 88,
   "metadata": {},
   "outputs": [
    {
     "data": {
      "text/plain": [
       "21.530979228120383"
      ]
     },
     "execution_count": 88,
     "metadata": {},
     "output_type": "execute_result"
    }
   ],
   "source": [
    "lr.intercept_"
   ]
  },
  {
   "cell_type": "code",
   "execution_count": 89,
   "metadata": {},
   "outputs": [
    {
     "data": {
      "text/plain": [
       "array([-0.13916577])"
      ]
     },
     "execution_count": 89,
     "metadata": {},
     "output_type": "execute_result"
    }
   ],
   "source": [
    "lr.coef_"
   ]
  },
  {
   "cell_type": "code",
   "execution_count": 90,
   "metadata": {},
   "outputs": [],
   "source": [
    "boston2[\"best_prediction\"] = boston2.MEDV * lr.coef_ + lr.intercept_\n",
    "boston2[\"best_prediction_error\"] = (boston2.best_prediction - boston.PTRATIO)"
   ]
  },
  {
   "cell_type": "code",
   "execution_count": 91,
   "metadata": {},
   "outputs": [
    {
     "data": {
      "text/plain": [
       "[<matplotlib.lines.Line2D at 0x11e754bb0>]"
      ]
     },
     "execution_count": 91,
     "metadata": {},
     "output_type": "execute_result"
    },
    {
     "data": {
      "image/png": "[encoded data removed]",
      "text/plain": [
       "<Figure size 1152x648 with 1 Axes>"
      ]
     },
     "metadata": {},
     "output_type": "display_data"
    }
   ],
   "source": [
    "fig, ax = plt.subplots()\n",
    "sns.scatterplot(x=boston2['MEDV'], y=boston2['PTRATIO'])\n",
    "plt.plot(boston2['MEDV'], boston2.best_prediction, color='y', label='best')"
   ]
  },
  {
   "cell_type": "code",
   "execution_count": 93,
   "metadata": {},
   "outputs": [
    {
     "data": {
      "text/plain": [
       "LinearRegression()"
      ]
     },
     "execution_count": 93,
     "metadata": {},
     "output_type": "execute_result"
    }
   ],
   "source": [
    "# RM - average number of rooms per dwelling\n",
    "lr = LinearRegression()\n",
    "lr.fit(\n",
    "    X = boston2[['MEDV']],\n",
    "    y = boston2.RM\n",
    ")"
   ]
  },
  {
   "cell_type": "code",
   "execution_count": 94,
   "metadata": {},
   "outputs": [
    {
     "data": {
      "text/plain": [
       "5.01180825918099"
      ]
     },
     "execution_count": 94,
     "metadata": {},
     "output_type": "execute_result"
    }
   ],
   "source": [
    "lr.intercept_"
   ]
  },
  {
   "cell_type": "code",
   "execution_count": 95,
   "metadata": {},
   "outputs": [
    {
     "data": {
      "text/plain": [
       "array([0.05701922])"
      ]
     },
     "execution_count": 95,
     "metadata": {},
     "output_type": "execute_result"
    }
   ],
   "source": [
    "lr.coef_"
   ]
  },
  {
   "cell_type": "code",
   "execution_count": 96,
   "metadata": {},
   "outputs": [],
   "source": [
    "boston2[\"best_prediction\"] = boston2.MEDV * lr.coef_ + lr.intercept_\n",
    "boston2[\"best_prediction_error\"] = (boston2.best_prediction - boston2.RM)"
   ]
  },
  {
   "cell_type": "code",
   "execution_count": 97,
   "metadata": {
    "scrolled": true
   },
   "outputs": [
    {
     "data": {
      "text/plain": [
       "[<matplotlib.lines.Line2D at 0x11e7aac70>]"
      ]
     },
     "execution_count": 97,
     "metadata": {},
     "output_type": "execute_result"
    },
    {
     "data": {
      "image/png": "[encoded data removed]",
      "text/plain": [
       "<Figure size 1152x648 with 1 Axes>"
      ]
     },
     "metadata": {},
     "output_type": "display_data"
    }
   ],
   "source": [
    "fig, ax = plt.subplots()\n",
    "sns.scatterplot(x=boston2['MEDV'], y=boston2['RM'])\n",
    "plt.plot(boston2['MEDV'], boston2.best_prediction, color='g', label='best')"
   ]
  },
  {
   "cell_type": "code",
   "execution_count": 98,
   "metadata": {},
   "outputs": [
    {
     "data": {
      "text/plain": [
       "LinearRegression()"
      ]
     },
     "execution_count": 98,
     "metadata": {},
     "output_type": "execute_result"
    }
   ],
   "source": [
    "#ZN - proportion of residential land zoned for lots over 25,000 sq.ft.\n",
    "lr = LinearRegression()\n",
    "lr.fit(\n",
    "    X = boston2[['MEDV']],\n",
    "    y = boston2.ZN\n",
    ")"
   ]
  },
  {
   "cell_type": "code",
   "execution_count": 99,
   "metadata": {},
   "outputs": [
    {
     "data": {
      "text/plain": [
       "-14.313759672644156"
      ]
     },
     "execution_count": 99,
     "metadata": {},
     "output_type": "execute_result"
    }
   ],
   "source": [
    "lr.intercept_"
   ]
  },
  {
   "cell_type": "code",
   "execution_count": 100,
   "metadata": {},
   "outputs": [
    {
     "data": {
      "text/plain": [
       "array([1.17517566])"
      ]
     },
     "execution_count": 100,
     "metadata": {},
     "output_type": "execute_result"
    }
   ],
   "source": [
    "lr.coef_"
   ]
  },
  {
   "cell_type": "code",
   "execution_count": 101,
   "metadata": {},
   "outputs": [],
   "source": [
    "boston2[\"best_prediction\"] = boston2.MEDV * lr.coef_ + lr.intercept_\n",
    "boston2[\"best_prediction_error\"] = (boston2.best_prediction - boston2.ZN)"
   ]
  },
  {
   "cell_type": "code",
   "execution_count": 102,
   "metadata": {},
   "outputs": [
    {
     "data": {
      "text/plain": [
       "[<matplotlib.lines.Line2D at 0x11e809190>]"
      ]
     },
     "execution_count": 102,
     "metadata": {},
     "output_type": "execute_result"
    },
    {
     "data": {
      "image/png": "[encoded data removed]",
      "text/plain": [
       "<Figure size 1152x648 with 1 Axes>"
      ]
     },
     "metadata": {},
     "output_type": "display_data"
    }
   ],
   "source": [
    "fig, ax = plt.subplots()\n",
    "sns.scatterplot(x=boston2['MEDV'], y=boston2['ZN'])\n",
    "plt.plot(boston2['MEDV'], boston2.best_prediction, color='r', label='best')"
   ]
  },
  {
   "cell_type": "code",
   "execution_count": 103,
   "metadata": {},
   "outputs": [],
   "source": [
    "mod = smf.ols(formula='MEDV ~ CRIM + ZN + INDUS + CHAS + NOX + RM + AGE +DIS + RAD + TAX + PTRATIO + LSTAT', data=boston2)"
   ]
  },
  {
   "cell_type": "code",
   "execution_count": 104,
   "metadata": {},
   "outputs": [
    {
     "data": {
      "text/html": [
       "<table class=\"simpletable\">\n",
       "<caption>OLS Regression Results</caption>\n",
       "<tr>\n",
       "  <th>Dep. Variable:</th>          <td>MEDV</td>       <th>  R-squared:         </th> <td>   0.771</td> \n",
       "</tr>\n",
       "<tr>\n",
       "  <th>Model:</th>                   <td>OLS</td>       <th>  Adj. R-squared:    </th> <td>   0.766</td> \n",
       "</tr>\n",
       "<tr>\n",
       "  <th>Method:</th>             <td>Least Squares</td>  <th>  F-statistic:       </th> <td>   134.1</td> \n",
       "</tr>\n",
       "<tr>\n",
       "  <th>Date:</th>             <td>Wed, 25 Nov 2020</td> <th>  Prob (F-statistic):</th> <td>2.84e-144</td>\n",
       "</tr>\n",
       "<tr>\n",
       "  <th>Time:</th>                 <td>12:16:56</td>     <th>  Log-Likelihood:    </th> <td> -1343.9</td> \n",
       "</tr>\n",
       "<tr>\n",
       "  <th>No. Observations:</th>      <td>   490</td>      <th>  AIC:               </th> <td>   2714.</td> \n",
       "</tr>\n",
       "<tr>\n",
       "  <th>Df Residuals:</th>          <td>   477</td>      <th>  BIC:               </th> <td>   2768.</td> \n",
       "</tr>\n",
       "<tr>\n",
       "  <th>Df Model:</th>              <td>    12</td>      <th>                     </th>     <td> </td>    \n",
       "</tr>\n",
       "<tr>\n",
       "  <th>Covariance Type:</th>      <td>nonrobust</td>    <th>                     </th>     <td> </td>    \n",
       "</tr>\n",
       "</table>\n",
       "<table class=\"simpletable\">\n",
       "<tr>\n",
       "      <td></td>         <th>coef</th>     <th>std err</th>      <th>t</th>      <th>P>|t|</th>  <th>[0.025</th>    <th>0.975]</th>  \n",
       "</tr>\n",
       "<tr>\n",
       "  <th>Intercept</th> <td>   36.5934</td> <td>    4.002</td> <td>    9.144</td> <td> 0.000</td> <td>   28.730</td> <td>   44.457</td>\n",
       "</tr>\n",
       "<tr>\n",
       "  <th>CRIM</th>      <td>   -0.1180</td> <td>    0.026</td> <td>   -4.491</td> <td> 0.000</td> <td>   -0.170</td> <td>   -0.066</td>\n",
       "</tr>\n",
       "<tr>\n",
       "  <th>ZN</th>        <td>    0.0357</td> <td>    0.011</td> <td>    3.131</td> <td> 0.002</td> <td>    0.013</td> <td>    0.058</td>\n",
       "</tr>\n",
       "<tr>\n",
       "  <th>INDUS</th>     <td>   -0.0502</td> <td>    0.050</td> <td>   -0.995</td> <td> 0.320</td> <td>   -0.149</td> <td>    0.049</td>\n",
       "</tr>\n",
       "<tr>\n",
       "  <th>CHAS</th>      <td>    0.5657</td> <td>    0.751</td> <td>    0.754</td> <td> 0.451</td> <td>   -0.909</td> <td>    2.041</td>\n",
       "</tr>\n",
       "<tr>\n",
       "  <th>NOX</th>       <td>  -13.2012</td> <td>    3.089</td> <td>   -4.274</td> <td> 0.000</td> <td>  -19.271</td> <td>   -7.131</td>\n",
       "</tr>\n",
       "<tr>\n",
       "  <th>RM</th>        <td>    3.6222</td> <td>    0.360</td> <td>   10.060</td> <td> 0.000</td> <td>    2.915</td> <td>    4.330</td>\n",
       "</tr>\n",
       "<tr>\n",
       "  <th>AGE</th>       <td>   -0.0214</td> <td>    0.011</td> <td>   -1.987</td> <td> 0.047</td> <td>   -0.043</td> <td>   -0.000</td>\n",
       "</tr>\n",
       "<tr>\n",
       "  <th>DIS</th>       <td>   -1.2215</td> <td>    0.163</td> <td>   -7.506</td> <td> 0.000</td> <td>   -1.541</td> <td>   -0.902</td>\n",
       "</tr>\n",
       "<tr>\n",
       "  <th>RAD</th>       <td>    0.2370</td> <td>    0.054</td> <td>    4.418</td> <td> 0.000</td> <td>    0.132</td> <td>    0.342</td>\n",
       "</tr>\n",
       "<tr>\n",
       "  <th>TAX</th>       <td>   -0.0141</td> <td>    0.003</td> <td>   -4.638</td> <td> 0.000</td> <td>   -0.020</td> <td>   -0.008</td>\n",
       "</tr>\n",
       "<tr>\n",
       "  <th>PTRATIO</th>   <td>   -0.8239</td> <td>    0.107</td> <td>   -7.724</td> <td> 0.000</td> <td>   -1.034</td> <td>   -0.614</td>\n",
       "</tr>\n",
       "<tr>\n",
       "  <th>LSTAT</th>     <td>   -0.3721</td> <td>    0.043</td> <td>   -8.725</td> <td> 0.000</td> <td>   -0.456</td> <td>   -0.288</td>\n",
       "</tr>\n",
       "</table>\n",
       "<table class=\"simpletable\">\n",
       "<tr>\n",
       "  <th>Omnibus:</th>       <td>69.184</td> <th>  Durbin-Watson:     </th> <td>   1.216</td>\n",
       "</tr>\n",
       "<tr>\n",
       "  <th>Prob(Omnibus):</th> <td> 0.000</td> <th>  Jarque-Bera (JB):  </th> <td> 113.986</td>\n",
       "</tr>\n",
       "<tr>\n",
       "  <th>Skew:</th>          <td> 0.876</td> <th>  Prob(JB):          </th> <td>1.77e-25</td>\n",
       "</tr>\n",
       "<tr>\n",
       "  <th>Kurtosis:</th>      <td> 4.586</td> <th>  Cond. No.          </th> <td>1.17e+04</td>\n",
       "</tr>\n",
       "</table><br/><br/>Notes:<br/>[1] Standard Errors assume that the covariance matrix of the errors is correctly specified.<br/>[2] The condition number is large, 1.17e+04. This might indicate that there are<br/>strong multicollinearity or other numerical problems."
      ],
      "text/plain": [
       "<class 'statsmodels.iolib.summary.Summary'>\n",
       "\"\"\"\n",
       "                            OLS Regression Results                            \n",
       "==============================================================================\n",
       "Dep. Variable:                   MEDV   R-squared:                       0.771\n",
       "Model:                            OLS   Adj. R-squared:                  0.766\n",
       "Method:                 Least Squares   F-statistic:                     134.1\n",
       "Date:                Wed, 25 Nov 2020   Prob (F-statistic):          2.84e-144\n",
       "Time:                        12:16:56   Log-Likelihood:                -1343.9\n",
       "No. Observations:                 490   AIC:                             2714.\n",
       "Df Residuals:                     477   BIC:                             2768.\n",
       "Df Model:                          12                                         \n",
       "Covariance Type:            nonrobust                                         \n",
       "==============================================================================\n",
       "                 coef    std err          t      P>|t|      [0.025      0.975]\n",
       "------------------------------------------------------------------------------\n",
       "Intercept     36.5934      4.002      9.144      0.000      28.730      44.457\n",
       "CRIM          -0.1180      0.026     -4.491      0.000      -0.170      -0.066\n",
       "ZN             0.0357      0.011      3.131      0.002       0.013       0.058\n",
       "INDUS         -0.0502      0.050     -0.995      0.320      -0.149       0.049\n",
       "CHAS           0.5657      0.751      0.754      0.451      -0.909       2.041\n",
       "NOX          -13.2012      3.089     -4.274      0.000     -19.271      -7.131\n",
       "RM             3.6222      0.360     10.060      0.000       2.915       4.330\n",
       "AGE           -0.0214      0.011     -1.987      0.047      -0.043      -0.000\n",
       "DIS           -1.2215      0.163     -7.506      0.000      -1.541      -0.902\n",
       "RAD            0.2370      0.054      4.418      0.000       0.132       0.342\n",
       "TAX           -0.0141      0.003     -4.638      0.000      -0.020      -0.008\n",
       "PTRATIO       -0.8239      0.107     -7.724      0.000      -1.034      -0.614\n",
       "LSTAT         -0.3721      0.043     -8.725      0.000      -0.456      -0.288\n",
       "==============================================================================\n",
       "Omnibus:                       69.184   Durbin-Watson:                   1.216\n",
       "Prob(Omnibus):                  0.000   Jarque-Bera (JB):              113.986\n",
       "Skew:                           0.876   Prob(JB):                     1.77e-25\n",
       "Kurtosis:                       4.586   Cond. No.                     1.17e+04\n",
       "==============================================================================\n",
       "\n",
       "Notes:\n",
       "[1] Standard Errors assume that the covariance matrix of the errors is correctly specified.\n",
       "[2] The condition number is large, 1.17e+04. This might indicate that there are\n",
       "strong multicollinearity or other numerical problems.\n",
       "\"\"\""
      ]
     },
     "execution_count": 104,
     "metadata": {},
     "output_type": "execute_result"
    }
   ],
   "source": [
    "res = mod.fit()\n",
    "res.summary()"
   ]
  },
  {
   "cell_type": "markdown",
   "metadata": {},
   "source": [
    "#Remarks\n",
    "- the p-value is less than 0.05 in nearly all variables -> This means % of lower status population, average number of rooms per dwelling, pupil-teacher ratio by town among others are correlated to median value of owner-occupied homes in 1000's dollars. With p-values higher than 0.05, proportion of non-retail business acres per town and age (proportion of owner-occupied units built prior to 1940) do not seem to have a clear relation with MEDV. \n",
    "- ZN(proportion of residential land zoned for lots over 25,000 sq.ft.) and RM(Average rooms per dwelling) influence MEDV positively.\n",
    "- RAD (index of accessibility to radial highways ), PTRATIO (pupil-teacher ratio by town), CRIM (per capita crime rate by town) influence MEDV negatively. "
   ]
  },
  {
   "cell_type": "code",
   "execution_count": 105,
   "metadata": {},
   "outputs": [],
   "source": [
    "mod = smf.ols(formula='MEDV ~ CRIM + ZN + INDUS + CHAS + NOX + RM + AGE +DIS + RAD + TAX + PTRATIO + LSTAT + B', data=boston2)"
   ]
  },
  {
   "cell_type": "code",
   "execution_count": 106,
   "metadata": {},
   "outputs": [
    {
     "data": {
      "text/html": [
       "<table class=\"simpletable\">\n",
       "<caption>OLS Regression Results</caption>\n",
       "<tr>\n",
       "  <th>Dep. Variable:</th>          <td>MEDV</td>       <th>  R-squared:         </th> <td>   0.778</td> \n",
       "</tr>\n",
       "<tr>\n",
       "  <th>Model:</th>                   <td>OLS</td>       <th>  Adj. R-squared:    </th> <td>   0.772</td> \n",
       "</tr>\n",
       "<tr>\n",
       "  <th>Method:</th>             <td>Least Squares</td>  <th>  F-statistic:       </th> <td>   128.1</td> \n",
       "</tr>\n",
       "<tr>\n",
       "  <th>Date:</th>             <td>Wed, 25 Nov 2020</td> <th>  Prob (F-statistic):</th> <td>4.33e-146</td>\n",
       "</tr>\n",
       "<tr>\n",
       "  <th>Time:</th>                 <td>12:17:10</td>     <th>  Log-Likelihood:    </th> <td> -1337.0</td> \n",
       "</tr>\n",
       "<tr>\n",
       "  <th>No. Observations:</th>      <td>   490</td>      <th>  AIC:               </th> <td>   2702.</td> \n",
       "</tr>\n",
       "<tr>\n",
       "  <th>Df Residuals:</th>          <td>   476</td>      <th>  BIC:               </th> <td>   2761.</td> \n",
       "</tr>\n",
       "<tr>\n",
       "  <th>Df Model:</th>              <td>    13</td>      <th>                     </th>     <td> </td>    \n",
       "</tr>\n",
       "<tr>\n",
       "  <th>Covariance Type:</th>      <td>nonrobust</td>    <th>                     </th>     <td> </td>    \n",
       "</tr>\n",
       "</table>\n",
       "<table class=\"simpletable\">\n",
       "<tr>\n",
       "      <td></td>         <th>coef</th>     <th>std err</th>      <th>t</th>      <th>P>|t|</th>  <th>[0.025</th>    <th>0.975]</th>  \n",
       "</tr>\n",
       "<tr>\n",
       "  <th>Intercept</th> <td>   32.2298</td> <td>    4.124</td> <td>    7.816</td> <td> 0.000</td> <td>   24.127</td> <td>   40.332</td>\n",
       "</tr>\n",
       "<tr>\n",
       "  <th>CRIM</th>      <td>   -0.1067</td> <td>    0.026</td> <td>   -4.088</td> <td> 0.000</td> <td>   -0.158</td> <td>   -0.055</td>\n",
       "</tr>\n",
       "<tr>\n",
       "  <th>ZN</th>        <td>    0.0353</td> <td>    0.011</td> <td>    3.133</td> <td> 0.002</td> <td>    0.013</td> <td>    0.057</td>\n",
       "</tr>\n",
       "<tr>\n",
       "  <th>INDUS</th>     <td>   -0.0439</td> <td>    0.050</td> <td>   -0.881</td> <td> 0.379</td> <td>   -0.142</td> <td>    0.054</td>\n",
       "</tr>\n",
       "<tr>\n",
       "  <th>CHAS</th>      <td>    0.4522</td> <td>    0.742</td> <td>    0.610</td> <td> 0.542</td> <td>   -1.005</td> <td>    1.910</td>\n",
       "</tr>\n",
       "<tr>\n",
       "  <th>NOX</th>       <td>  -12.3981</td> <td>    3.057</td> <td>   -4.056</td> <td> 0.000</td> <td>  -18.405</td> <td>   -6.392</td>\n",
       "</tr>\n",
       "<tr>\n",
       "  <th>RM</th>        <td>    3.7595</td> <td>    0.357</td> <td>   10.520</td> <td> 0.000</td> <td>    3.057</td> <td>    4.462</td>\n",
       "</tr>\n",
       "<tr>\n",
       "  <th>AGE</th>       <td>   -0.0237</td> <td>    0.011</td> <td>   -2.223</td> <td> 0.027</td> <td>   -0.045</td> <td>   -0.003</td>\n",
       "</tr>\n",
       "<tr>\n",
       "  <th>DIS</th>       <td>   -1.2110</td> <td>    0.161</td> <td>   -7.538</td> <td> 0.000</td> <td>   -1.527</td> <td>   -0.895</td>\n",
       "</tr>\n",
       "<tr>\n",
       "  <th>RAD</th>       <td>    0.2513</td> <td>    0.053</td> <td>    4.734</td> <td> 0.000</td> <td>    0.147</td> <td>    0.356</td>\n",
       "</tr>\n",
       "<tr>\n",
       "  <th>TAX</th>       <td>   -0.0138</td> <td>    0.003</td> <td>   -4.594</td> <td> 0.000</td> <td>   -0.020</td> <td>   -0.008</td>\n",
       "</tr>\n",
       "<tr>\n",
       "  <th>PTRATIO</th>   <td>   -0.8382</td> <td>    0.105</td> <td>   -7.955</td> <td> 0.000</td> <td>   -1.045</td> <td>   -0.631</td>\n",
       "</tr>\n",
       "<tr>\n",
       "  <th>LSTAT</th>     <td>   -0.3501</td> <td>    0.043</td> <td>   -8.234</td> <td> 0.000</td> <td>   -0.434</td> <td>   -0.267</td>\n",
       "</tr>\n",
       "<tr>\n",
       "  <th>B</th>         <td>    0.0079</td> <td>    0.002</td> <td>    3.686</td> <td> 0.000</td> <td>    0.004</td> <td>    0.012</td>\n",
       "</tr>\n",
       "</table>\n",
       "<table class=\"simpletable\">\n",
       "<tr>\n",
       "  <th>Omnibus:</th>       <td>83.998</td> <th>  Durbin-Watson:     </th> <td>   1.232</td>\n",
       "</tr>\n",
       "<tr>\n",
       "  <th>Prob(Omnibus):</th> <td> 0.000</td> <th>  Jarque-Bera (JB):  </th> <td> 161.718</td>\n",
       "</tr>\n",
       "<tr>\n",
       "  <th>Skew:</th>          <td> 0.965</td> <th>  Prob(JB):          </th> <td>7.65e-36</td>\n",
       "</tr>\n",
       "<tr>\n",
       "  <th>Kurtosis:</th>      <td> 5.049</td> <th>  Cond. No.          </th> <td>1.51e+04</td>\n",
       "</tr>\n",
       "</table><br/><br/>Notes:<br/>[1] Standard Errors assume that the covariance matrix of the errors is correctly specified.<br/>[2] The condition number is large, 1.51e+04. This might indicate that there are<br/>strong multicollinearity or other numerical problems."
      ],
      "text/plain": [
       "<class 'statsmodels.iolib.summary.Summary'>\n",
       "\"\"\"\n",
       "                            OLS Regression Results                            \n",
       "==============================================================================\n",
       "Dep. Variable:                   MEDV   R-squared:                       0.778\n",
       "Model:                            OLS   Adj. R-squared:                  0.772\n",
       "Method:                 Least Squares   F-statistic:                     128.1\n",
       "Date:                Wed, 25 Nov 2020   Prob (F-statistic):          4.33e-146\n",
       "Time:                        12:17:10   Log-Likelihood:                -1337.0\n",
       "No. Observations:                 490   AIC:                             2702.\n",
       "Df Residuals:                     476   BIC:                             2761.\n",
       "Df Model:                          13                                         \n",
       "Covariance Type:            nonrobust                                         \n",
       "==============================================================================\n",
       "                 coef    std err          t      P>|t|      [0.025      0.975]\n",
       "------------------------------------------------------------------------------\n",
       "Intercept     32.2298      4.124      7.816      0.000      24.127      40.332\n",
       "CRIM          -0.1067      0.026     -4.088      0.000      -0.158      -0.055\n",
       "ZN             0.0353      0.011      3.133      0.002       0.013       0.057\n",
       "INDUS         -0.0439      0.050     -0.881      0.379      -0.142       0.054\n",
       "CHAS           0.4522      0.742      0.610      0.542      -1.005       1.910\n",
       "NOX          -12.3981      3.057     -4.056      0.000     -18.405      -6.392\n",
       "RM             3.7595      0.357     10.520      0.000       3.057       4.462\n",
       "AGE           -0.0237      0.011     -2.223      0.027      -0.045      -0.003\n",
       "DIS           -1.2110      0.161     -7.538      0.000      -1.527      -0.895\n",
       "RAD            0.2513      0.053      4.734      0.000       0.147       0.356\n",
       "TAX           -0.0138      0.003     -4.594      0.000      -0.020      -0.008\n",
       "PTRATIO       -0.8382      0.105     -7.955      0.000      -1.045      -0.631\n",
       "LSTAT         -0.3501      0.043     -8.234      0.000      -0.434      -0.267\n",
       "B              0.0079      0.002      3.686      0.000       0.004       0.012\n",
       "==============================================================================\n",
       "Omnibus:                       83.998   Durbin-Watson:                   1.232\n",
       "Prob(Omnibus):                  0.000   Jarque-Bera (JB):              161.718\n",
       "Skew:                           0.965   Prob(JB):                     7.65e-36\n",
       "Kurtosis:                       5.049   Cond. No.                     1.51e+04\n",
       "==============================================================================\n",
       "\n",
       "Notes:\n",
       "[1] Standard Errors assume that the covariance matrix of the errors is correctly specified.\n",
       "[2] The condition number is large, 1.51e+04. This might indicate that there are\n",
       "strong multicollinearity or other numerical problems.\n",
       "\"\"\""
      ]
     },
     "execution_count": 106,
     "metadata": {},
     "output_type": "execute_result"
    }
   ],
   "source": [
    "res = mod.fit()\n",
    "res.summary()"
   ]
  }
 ],
 "metadata": {
  "kernelspec": {
   "display_name": "Python 3",
   "language": "python",
   "name": "python3"
  },
  "language_info": {
   "codemirror_mode": {
    "name": "ipython",
    "version": 3
   },
   "file_extension": ".py",
   "mimetype": "text/x-python",
   "name": "python",
   "nbconvert_exporter": "python",
   "pygments_lexer": "ipython3",
   "version": "3.8.6"
  }
 },
 "nbformat": 4,
 "nbformat_minor": 4
}
